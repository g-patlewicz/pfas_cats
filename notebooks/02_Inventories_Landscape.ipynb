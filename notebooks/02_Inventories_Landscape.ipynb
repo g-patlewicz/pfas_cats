{
 "cells": [
  {
   "cell_type": "markdown",
   "metadata": {},
   "source": [
    "### Landscape of PFAS Inventories: Analsysis using ToxPrints and ToxPrint Categories"
   ]
  },
  {
   "cell_type": "markdown",
   "metadata": {},
   "source": [
    "##### Data directories"
   ]
  },
  {
   "cell_type": "code",
   "execution_count": 1,
   "metadata": {},
   "outputs": [],
   "source": [
    "import numpy as np\n",
    "import pandas as pd\n",
    "import matplotlib.pyplot as plt\n",
    "import seaborn as sns\n",
    "%matplotlib inline\n",
    "import os\n",
    "import glob\n",
    "import openpyxl"
   ]
  },
  {
   "cell_type": "code",
   "execution_count": 2,
   "metadata": {},
   "outputs": [],
   "source": [
    "TOP = os.getcwd().replace('notebooks', '')\n",
    "raw_dir = TOP + 'data/raw/'\n",
    "interim_dir = TOP + 'data/interim/'\n",
    "external_dir = TOP + 'data/external/'\n",
    "figures_dir = TOP + 'reports/figures/'"
   ]
  },
  {
   "cell_type": "code",
   "execution_count": 3,
   "metadata": {},
   "outputs": [],
   "source": [
    "pfas430 = pd.read_excel(raw_dir+'pfas430_inv_tagged_TxPs_281019.xlsx', sheet_name = 'pfas430_inv_tagged')"
   ]
  },
  {
   "cell_type": "code",
   "execution_count": 4,
   "metadata": {},
   "outputs": [],
   "source": [
    "#xls.sheet_names"
   ]
  },
  {
   "cell_type": "code",
   "execution_count": 5,
   "metadata": {},
   "outputs": [
    {
     "data": {
      "text/plain": [
       "(428, 6)"
      ]
     },
     "execution_count": 5,
     "metadata": {},
     "output_type": "execute_result"
    }
   ],
   "source": [
    "pfas430.shape"
   ]
  },
  {
   "cell_type": "code",
   "execution_count": 6,
   "metadata": {},
   "outputs": [],
   "source": [
    "oecd = pd.read_excel(raw_dir+'OECD_PFAS_220819.xlsx', sheet_name = 'Worksheet1')"
   ]
  },
  {
   "cell_type": "code",
   "execution_count": 7,
   "metadata": {},
   "outputs": [
    {
     "data": {
      "text/plain": [
       "(4729, 9)"
      ]
     },
     "execution_count": 7,
     "metadata": {},
     "output_type": "execute_result"
    }
   ],
   "source": [
    "oecd.shape"
   ]
  },
  {
   "cell_type": "code",
   "execution_count": 8,
   "metadata": {},
   "outputs": [],
   "source": [
    "pfas_struct = pd.read_csv(interim_dir+'pfasstructv4_4TxPs_res.txt', sep = ';')"
   ]
  },
  {
   "cell_type": "code",
   "execution_count": 9,
   "metadata": {},
   "outputs": [
    {
     "data": {
      "text/plain": [
       "(10776, 732)"
      ]
     },
     "execution_count": 9,
     "metadata": {},
     "output_type": "execute_result"
    }
   ],
   "source": [
    "pfas_struct.shape"
   ]
  },
  {
   "cell_type": "code",
   "execution_count": 10,
   "metadata": {},
   "outputs": [
    {
     "data": {
      "text/html": [
       "<div>\n",
       "<style scoped>\n",
       "    .dataframe tbody tr th:only-of-type {\n",
       "        vertical-align: middle;\n",
       "    }\n",
       "\n",
       "    .dataframe tbody tr th {\n",
       "        vertical-align: top;\n",
       "    }\n",
       "\n",
       "    .dataframe thead th {\n",
       "        text-align: right;\n",
       "    }\n",
       "</style>\n",
       "<table border=\"1\" class=\"dataframe\">\n",
       "  <thead>\n",
       "    <tr style=\"text-align: right;\">\n",
       "      <th></th>\n",
       "      <th>M_NAME</th>\n",
       "      <th>atom:element_main_group</th>\n",
       "      <th>atom:element_metal_group_I_II</th>\n",
       "      <th>atom:element_metal_group_III</th>\n",
       "      <th>atom:element_metal_metalloid</th>\n",
       "      <th>atom:element_metal_poor_metal</th>\n",
       "      <th>atom:element_metal_transistion_metal</th>\n",
       "      <th>atom:element_noble_gas</th>\n",
       "      <th>bond:C#N_cyano_acylcyanide</th>\n",
       "      <th>bond:C#N_cyano_cyanamide</th>\n",
       "      <th>...</th>\n",
       "      <th>ring:polycycle_spiro_[2.5]octane</th>\n",
       "      <th>ring:polycycle_spiro_[4.5]decane</th>\n",
       "      <th>ring:polycycle_spiro_1_4-dioxaspiro[4.5]decane</th>\n",
       "      <th>ring:polycycle_tricyclo_[3.5.5]_cyclopropa[cd]pentalene</th>\n",
       "      <th>ring:polycycle_tricyclo_[3.7.7]bullvalene</th>\n",
       "      <th>ring:polycycle_tricyclo_[3.7.7]semibullvalene</th>\n",
       "      <th>ring:polycycle_tricyclo_adamantane</th>\n",
       "      <th>ring:polycycle_tricyclo_benzvalene</th>\n",
       "      <th>M_COMPOUND_HISTORY_[STRING]</th>\n",
       "      <th>M_CORINA_SYMPHONY_ERRORS_[STRING]</th>\n",
       "    </tr>\n",
       "  </thead>\n",
       "  <tbody>\n",
       "    <tr>\n",
       "      <th>0</th>\n",
       "      <td>DTXSID90804377</td>\n",
       "      <td>0</td>\n",
       "      <td>0</td>\n",
       "      <td>0</td>\n",
       "      <td>0</td>\n",
       "      <td>0</td>\n",
       "      <td>0</td>\n",
       "      <td>0</td>\n",
       "      <td>0</td>\n",
       "      <td>0</td>\n",
       "      <td>...</td>\n",
       "      <td>0</td>\n",
       "      <td>0</td>\n",
       "      <td>0</td>\n",
       "      <td>0</td>\n",
       "      <td>0</td>\n",
       "      <td>0</td>\n",
       "      <td>0</td>\n",
       "      <td>0</td>\n",
       "      <td>Original compound</td>\n",
       "      <td>No errors</td>\n",
       "    </tr>\n",
       "    <tr>\n",
       "      <th>1</th>\n",
       "      <td>DTXSID80407235</td>\n",
       "      <td>0</td>\n",
       "      <td>0</td>\n",
       "      <td>0</td>\n",
       "      <td>0</td>\n",
       "      <td>0</td>\n",
       "      <td>0</td>\n",
       "      <td>0</td>\n",
       "      <td>0</td>\n",
       "      <td>0</td>\n",
       "      <td>...</td>\n",
       "      <td>0</td>\n",
       "      <td>0</td>\n",
       "      <td>0</td>\n",
       "      <td>0</td>\n",
       "      <td>0</td>\n",
       "      <td>0</td>\n",
       "      <td>0</td>\n",
       "      <td>0</td>\n",
       "      <td>Original compound</td>\n",
       "      <td>No errors</td>\n",
       "    </tr>\n",
       "    <tr>\n",
       "      <th>2</th>\n",
       "      <td>DTXSID90785778</td>\n",
       "      <td>0</td>\n",
       "      <td>0</td>\n",
       "      <td>0</td>\n",
       "      <td>0</td>\n",
       "      <td>0</td>\n",
       "      <td>0</td>\n",
       "      <td>0</td>\n",
       "      <td>0</td>\n",
       "      <td>0</td>\n",
       "      <td>...</td>\n",
       "      <td>0</td>\n",
       "      <td>0</td>\n",
       "      <td>0</td>\n",
       "      <td>0</td>\n",
       "      <td>0</td>\n",
       "      <td>0</td>\n",
       "      <td>0</td>\n",
       "      <td>0</td>\n",
       "      <td>Original compound</td>\n",
       "      <td>No errors</td>\n",
       "    </tr>\n",
       "    <tr>\n",
       "      <th>3</th>\n",
       "      <td>DTXSID301035635</td>\n",
       "      <td>0</td>\n",
       "      <td>0</td>\n",
       "      <td>0</td>\n",
       "      <td>0</td>\n",
       "      <td>0</td>\n",
       "      <td>0</td>\n",
       "      <td>0</td>\n",
       "      <td>0</td>\n",
       "      <td>0</td>\n",
       "      <td>...</td>\n",
       "      <td>0</td>\n",
       "      <td>0</td>\n",
       "      <td>0</td>\n",
       "      <td>0</td>\n",
       "      <td>0</td>\n",
       "      <td>0</td>\n",
       "      <td>0</td>\n",
       "      <td>0</td>\n",
       "      <td>Original compound</td>\n",
       "      <td>No errors</td>\n",
       "    </tr>\n",
       "    <tr>\n",
       "      <th>4</th>\n",
       "      <td>DTXSID801026849</td>\n",
       "      <td>0</td>\n",
       "      <td>0</td>\n",
       "      <td>0</td>\n",
       "      <td>1</td>\n",
       "      <td>0</td>\n",
       "      <td>0</td>\n",
       "      <td>0</td>\n",
       "      <td>0</td>\n",
       "      <td>0</td>\n",
       "      <td>...</td>\n",
       "      <td>0</td>\n",
       "      <td>0</td>\n",
       "      <td>0</td>\n",
       "      <td>0</td>\n",
       "      <td>0</td>\n",
       "      <td>0</td>\n",
       "      <td>0</td>\n",
       "      <td>0</td>\n",
       "      <td>Original compound</td>\n",
       "      <td>No errors</td>\n",
       "    </tr>\n",
       "  </tbody>\n",
       "</table>\n",
       "<p>5 rows × 732 columns</p>\n",
       "</div>"
      ],
      "text/plain": [
       "            M_NAME  atom:element_main_group  atom:element_metal_group_I_II  \\\n",
       "0   DTXSID90804377                        0                              0   \n",
       "1   DTXSID80407235                        0                              0   \n",
       "2   DTXSID90785778                        0                              0   \n",
       "3  DTXSID301035635                        0                              0   \n",
       "4  DTXSID801026849                        0                              0   \n",
       "\n",
       "   atom:element_metal_group_III  atom:element_metal_metalloid  \\\n",
       "0                             0                             0   \n",
       "1                             0                             0   \n",
       "2                             0                             0   \n",
       "3                             0                             0   \n",
       "4                             0                             1   \n",
       "\n",
       "   atom:element_metal_poor_metal  atom:element_metal_transistion_metal  \\\n",
       "0                              0                                     0   \n",
       "1                              0                                     0   \n",
       "2                              0                                     0   \n",
       "3                              0                                     0   \n",
       "4                              0                                     0   \n",
       "\n",
       "   atom:element_noble_gas  bond:C#N_cyano_acylcyanide  \\\n",
       "0                       0                           0   \n",
       "1                       0                           0   \n",
       "2                       0                           0   \n",
       "3                       0                           0   \n",
       "4                       0                           0   \n",
       "\n",
       "   bond:C#N_cyano_cyanamide  ...  ring:polycycle_spiro_[2.5]octane  \\\n",
       "0                         0  ...                                 0   \n",
       "1                         0  ...                                 0   \n",
       "2                         0  ...                                 0   \n",
       "3                         0  ...                                 0   \n",
       "4                         0  ...                                 0   \n",
       "\n",
       "   ring:polycycle_spiro_[4.5]decane  \\\n",
       "0                                 0   \n",
       "1                                 0   \n",
       "2                                 0   \n",
       "3                                 0   \n",
       "4                                 0   \n",
       "\n",
       "   ring:polycycle_spiro_1_4-dioxaspiro[4.5]decane  \\\n",
       "0                                               0   \n",
       "1                                               0   \n",
       "2                                               0   \n",
       "3                                               0   \n",
       "4                                               0   \n",
       "\n",
       "   ring:polycycle_tricyclo_[3.5.5]_cyclopropa[cd]pentalene  \\\n",
       "0                                                  0         \n",
       "1                                                  0         \n",
       "2                                                  0         \n",
       "3                                                  0         \n",
       "4                                                  0         \n",
       "\n",
       "   ring:polycycle_tricyclo_[3.7.7]bullvalene  \\\n",
       "0                                          0   \n",
       "1                                          0   \n",
       "2                                          0   \n",
       "3                                          0   \n",
       "4                                          0   \n",
       "\n",
       "   ring:polycycle_tricyclo_[3.7.7]semibullvalene  \\\n",
       "0                                              0   \n",
       "1                                              0   \n",
       "2                                              0   \n",
       "3                                              0   \n",
       "4                                              0   \n",
       "\n",
       "   ring:polycycle_tricyclo_adamantane  ring:polycycle_tricyclo_benzvalene  \\\n",
       "0                                   0                                   0   \n",
       "1                                   0                                   0   \n",
       "2                                   0                                   0   \n",
       "3                                   0                                   0   \n",
       "4                                   0                                   0   \n",
       "\n",
       "   M_COMPOUND_HISTORY_[STRING]  M_CORINA_SYMPHONY_ERRORS_[STRING]  \n",
       "0            Original compound                          No errors  \n",
       "1            Original compound                          No errors  \n",
       "2            Original compound                          No errors  \n",
       "3            Original compound                          No errors  \n",
       "4            Original compound                          No errors  \n",
       "\n",
       "[5 rows x 732 columns]"
      ]
     },
     "execution_count": 10,
     "metadata": {},
     "output_type": "execute_result"
    }
   ],
   "source": [
    "pfas_struct.head()"
   ]
  },
  {
   "cell_type": "code",
   "execution_count": 11,
   "metadata": {},
   "outputs": [],
   "source": [
    "union_set  = pd.read_csv(interim_dir+'OPSCPP_4TxPs_res.txt', sep = ';')"
   ]
  },
  {
   "cell_type": "code",
   "execution_count": 12,
   "metadata": {},
   "outputs": [
    {
     "data": {
      "text/plain": [
       "(6504, 732)"
      ]
     },
     "execution_count": 12,
     "metadata": {},
     "output_type": "execute_result"
    }
   ],
   "source": [
    "union_set.shape"
   ]
  },
  {
   "cell_type": "code",
   "execution_count": 13,
   "metadata": {},
   "outputs": [],
   "source": [
    "from matplotlib_venn import venn3"
   ]
  },
  {
   "cell_type": "markdown",
   "metadata": {},
   "source": [
    "### Create a list of DTXSIDs to compare against"
   ]
  },
  {
   "cell_type": "code",
   "execution_count": 20,
   "metadata": {},
   "outputs": [],
   "source": [
    "pfas150 = list(set(pfas430[pfas430['old146']]['DTXSID'].tolist()))"
   ]
  },
  {
   "cell_type": "code",
   "execution_count": 21,
   "metadata": {},
   "outputs": [],
   "source": [
    "pfas_inv = list(set(pfas430.DTXSID.tolist()))"
   ]
  },
  {
   "cell_type": "code",
   "execution_count": 22,
   "metadata": {},
   "outputs": [],
   "source": [
    "oecd_ids = list(set(oecd.DTXSID.tolist()))"
   ]
  },
  {
   "cell_type": "code",
   "execution_count": 23,
   "metadata": {},
   "outputs": [],
   "source": [
    "pfas_struct_ids = list(set(pfas_struct.M_NAME.tolist()))"
   ]
  },
  {
   "cell_type": "code",
   "execution_count": 24,
   "metadata": {},
   "outputs": [],
   "source": [
    "union_ids = list(set(union_set.M_NAME.tolist()))"
   ]
  },
  {
   "cell_type": "markdown",
   "metadata": {},
   "source": [
    "Old lens"
   ]
  },
  {
   "cell_type": "code",
   "execution_count": 19,
   "metadata": {},
   "outputs": [
    {
     "name": "stdout",
     "output_type": "stream",
     "text": [
      "146 428 4729 10776 6504\n"
     ]
    }
   ],
   "source": [
    "print(len(pfas150), len(pfas_inv), len(oecd_ids), len(pfas_struct_ids), len(union_ids))"
   ]
  },
  {
   "cell_type": "code",
   "execution_count": 25,
   "metadata": {},
   "outputs": [
    {
     "name": "stdout",
     "output_type": "stream",
     "text": [
      "146 428 4729 10776 6504\n"
     ]
    }
   ],
   "source": [
    "print(len(pfas150), len(pfas_inv), len(oecd_ids), len(pfas_struct_ids), len(union_ids))"
   ]
  },
  {
   "cell_type": "markdown",
   "metadata": {},
   "source": [
    "### Overlap between OECD inventory and the remaining lists"
   ]
  },
  {
   "cell_type": "code",
   "execution_count": 26,
   "metadata": {},
   "outputs": [
    {
     "name": "stdout",
     "output_type": "stream",
     "text": [
      "4729\n",
      "3723\n",
      "2677\n",
      "310\n",
      "119\n"
     ]
    }
   ],
   "source": [
    "print(len([e for e in oecd_ids if e in oecd_ids ]))\n",
    "print(len([e for e in oecd_ids if e in pfas_struct_ids]))\n",
    "print(len([e for e in oecd_ids if e in union_ids]))\n",
    "print(len([e for e in oecd_ids if e in pfas_inv]))\n",
    "print(len([e for e in oecd_ids if e in pfas150]))\n"
   ]
  },
  {
   "cell_type": "markdown",
   "metadata": {},
   "source": [
    "### Overlap between PFASSTRUCT and the remaining lists"
   ]
  },
  {
   "cell_type": "code",
   "execution_count": 27,
   "metadata": {},
   "outputs": [
    {
     "name": "stdout",
     "output_type": "stream",
     "text": [
      "3723\n",
      "10776\n",
      "6356\n",
      "403\n",
      "139\n"
     ]
    }
   ],
   "source": [
    "print(len([e for e in pfas_struct_ids if e in oecd_ids ]))\n",
    "print(len([e for e in pfas_struct_ids if e in pfas_struct_ids]))\n",
    "print(len([e for e in pfas_struct_ids if e in union_ids]))\n",
    "print(len([e for e in pfas_struct_ids if e in pfas_inv]))\n",
    "print(len([e for e in pfas_struct_ids if e in pfas150]))"
   ]
  },
  {
   "cell_type": "markdown",
   "metadata": {},
   "source": [
    "### Overlap between PFASEPA and the remaining lists"
   ]
  },
  {
   "cell_type": "code",
   "execution_count": 28,
   "metadata": {},
   "outputs": [
    {
     "name": "stdout",
     "output_type": "stream",
     "text": [
      "2677\n",
      "6356\n",
      "6504\n",
      "348\n",
      "131\n"
     ]
    }
   ],
   "source": [
    "print(len([e for e in union_ids if e in oecd_ids ]))\n",
    "print(len([e for e in union_ids if e in pfas_struct_ids]))\n",
    "print(len([e for e in union_ids if e in union_ids]))\n",
    "print(len([e for e in union_ids if e in pfas_inv]))\n",
    "print(len([e for e in union_ids if e in pfas150]))"
   ]
  },
  {
   "cell_type": "markdown",
   "metadata": {},
   "source": [
    "### Overlap between PFASINV and the remaining lists"
   ]
  },
  {
   "cell_type": "code",
   "execution_count": 29,
   "metadata": {},
   "outputs": [
    {
     "name": "stdout",
     "output_type": "stream",
     "text": [
      "310\n",
      "403\n",
      "348\n",
      "428\n",
      "146\n"
     ]
    }
   ],
   "source": [
    "print(len([e for e in pfas_inv if e in oecd_ids ]))\n",
    "print(len([e for e in pfas_inv if e in pfas_struct_ids]))\n",
    "print(len([e for e in pfas_inv if e in union_ids]))\n",
    "print(len([e for e in pfas_inv if e in pfas_inv]))\n",
    "print(len([e for e in pfas_inv if e in pfas150]))"
   ]
  },
  {
   "cell_type": "code",
   "execution_count": 30,
   "metadata": {},
   "outputs": [
    {
     "name": "stdout",
     "output_type": "stream",
     "text": [
      "119\n",
      "139\n",
      "131\n",
      "146\n",
      "146\n"
     ]
    }
   ],
   "source": [
    "print(len([e for e in pfas150 if e in oecd_ids ]))\n",
    "print(len([e for e in pfas150 if e in pfas_struct_ids]))\n",
    "print(len([e for e in pfas150 if e in union_ids]))\n",
    "print(len([e for e in pfas150 if e in pfas_inv]))\n",
    "print(len([e for e in pfas150 if e in pfas150]))"
   ]
  },
  {
   "cell_type": "markdown",
   "metadata": {},
   "source": [
    "### Venn diagram to show overlaps between the inventories: PFASSTRUCT, PFASTSCA and PFASINV"
   ]
  },
  {
   "cell_type": "code",
   "execution_count": 31,
   "metadata": {},
   "outputs": [],
   "source": [
    "set1 = set(union_ids)\n",
    "set2 = set(pfas_struct_ids)\n",
    "set3 = set(pfas_inv)"
   ]
  },
  {
   "cell_type": "code",
   "execution_count": 32,
   "metadata": {},
   "outputs": [
    {
     "data": {
      "image/png": "[encoded data removed]",
      "text/plain": [
       "<Figure size 1080x720 with 1 Axes>"
      ]
     },
     "metadata": {},
     "output_type": "display_data"
    }
   ],
   "source": [
    "plt.style.use('ggplot')\n",
    "plt.figure(figsize=(15,10))\n",
    "v = venn3([set3, set2, set1], ('PFASINV-430', 'PFASSTRUCT', 'PFASOPPT'))\n",
    "for t in v.set_labels: t.set_fontsize(18)        \n",
    "label1 = v.get_label_by_id('11') \n",
    "label2 = v.get_label_by_id('01')\n",
    "label3 = v.get_label_by_id('10')\n",
    "label4 = v.get_label_by_id('111')\n",
    "label5 = v.get_label_by_id('011')\n",
    "label6 = v.get_label_by_id('001')\n",
    "## Those are subset labels (i.e. numbers)\n",
    "label1.set_fontsize(14)\n",
    "label2.set_fontsize(14) \n",
    "label3.set_fontsize(14) \n",
    "label4.set_fontsize(14) \n",
    "label5.set_fontsize(14) \n",
    "label6.set_fontsize(14)\n",
    "plt.savefig(figures_dir+'venn_overlaps_080921.png', dpi = 300)"
   ]
  },
  {
   "cell_type": "code",
   "execution_count": null,
   "metadata": {},
   "outputs": [],
   "source": []
  }
 ],
 "metadata": {
  "kernelspec": {
   "display_name": "pfas_dap",
   "language": "python",
   "name": "pfas_dap"
  },
  "language_info": {
   "codemirror_mode": {
    "name": "ipython",
    "version": 3
   },
   "file_extension": ".py",
   "mimetype": "text/x-python",
   "name": "python",
   "nbconvert_exporter": "python",
   "pygments_lexer": "ipython3",
   "version": "3.8.6"
  }
 },
 "nbformat": 4,
 "nbformat_minor": 4
}
